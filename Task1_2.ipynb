{
  "nbformat": 4,
  "nbformat_minor": 0,
  "metadata": {
    "colab": {
      "provenance": [],
      "authorship_tag": "ABX9TyPu++oWwetJVN/USdoK2qwQ",
      "include_colab_link": true
    },
    "kernelspec": {
      "name": "python3",
      "display_name": "Python 3"
    },
    "language_info": {
      "name": "python"
    }
  },
  "cells": [
    {
      "cell_type": "markdown",
      "metadata": {
        "id": "view-in-github",
        "colab_type": "text"
      },
      "source": [
        "<a href=\"https://colab.research.google.com/github/vinhbui123/machine_learning/blob/main/Task1_2.ipynb\" target=\"_parent\"><img src=\"https://colab.research.google.com/assets/colab-badge.svg\" alt=\"Open In Colab\"/></a>"
      ]
    },
    {
      "cell_type": "code",
      "source": [
        "from datetime import datetime\n",
        "\n",
        "class Transaction:\n",
        "    def __init__(self, transaction_id, transaction_type, amount, date=None):\n",
        "        self.id = transaction_id\n",
        "        self.type = transaction_type  # \"deposit\", \"withdrawal\", \"transfer\"\n",
        "        self.amount = amount\n",
        "        self.date = date if date else datetime.now()\n",
        "\n",
        "    def __str__(self):\n",
        "        return f\"Transaction(ID: {self.id}, Type: {self.type}, Amount: {self.amount}, Date: {self.date})\"\n",
        "\n",
        "\n",
        "class Account:\n",
        "\n",
        "    def __init__(self, account_no, owner, balance=0):\n",
        "        self.account_no = account_no\n",
        "        self.owner = owner\n",
        "        self.balance = balance\n",
        "        self.transactions = []\n",
        "\n",
        "\n",
        "    def findMaxWithdrawalTransaction(seft):\n",
        "        withdrawals = [t for t in seft.transactions if t.type == \"withdrawal\"]\n",
        "        return max(withdrawals, key=lambda t: t.amount)\n",
        "\n",
        "    def countDepositTransactions(seft):\n",
        "        return len([t for t in seft.transactions if t.type == \"deposit\"])\n",
        "\n",
        "    def deposit(self, amount):\n",
        "        if amount > 0:\n",
        "            self.balance += amount\n",
        "            transaction = Transaction(len(self.transactions) + 1, \"deposit\", amount)\n",
        "            self.transactions.append(transaction)\n",
        "            print(f\"Deposited {amount}. New balance: {self.balance}\")\n",
        "        else:\n",
        "            print(\"Deposit amount must be positive.\")\n",
        "\n",
        "    def withdraw(self, amount):\n",
        "        if 0 < amount <= self.balance:\n",
        "            self.balance -= amount\n",
        "            transaction = Transaction(len(self.transactions) + 1, \"withdrawal\", amount)\n",
        "            self.transactions.append(transaction)\n",
        "            print(f\"Withdrew {amount}. New balance: {self.balance}\")\n",
        "        else:\n",
        "            print(\"Invalid withdrawal amount.\")\n",
        "\n",
        "    def transfer(self, recipient, amount):\n",
        "        if isinstance(recipient, Account) and 0 < amount <= self.balance:\n",
        "            self.balance -= amount\n",
        "            recipient.balance += amount\n",
        "\n",
        "            transaction = Transaction(len(self.transactions) + 1, \"transfer\", amount)\n",
        "            self.transactions.append(transaction)\n",
        "\n",
        "            recipient_transaction = Transaction(len(recipient.transactions) + 1, \"deposit\", amount)\n",
        "            recipient.transactions.append(recipient_transaction)\n",
        "\n",
        "            print(f\"Transferred {amount} to {recipient.owner}. New balance: {self.balance}\")\n",
        "        else:\n",
        "            print(\"Invalid transfer.\")\n",
        "\n",
        "    def show_transactions(self):\n",
        "        for t in self.transactions:\n",
        "            print(t)\n",
        "\n",
        "\n",
        "# Example usage:\n",
        "acc1 = Account(1001, \"Alice\", 500)\n",
        "acc2 = Account(1002, \"Bob\", 300)\n",
        "\n",
        "acc1.deposit(200)\n",
        "acc1.deposit(150)\n",
        "acc1.withdraw(100)\n",
        "acc1.transfer(acc2, 150)\n",
        "\n",
        "print(\"\\nAlice's Transactions:\")\n",
        "acc1.show_transactions()\n",
        "\n",
        "print(\"\\nBob's Transactions:\")\n",
        "acc2.show_transactions()\n",
        "\n",
        "print(\"Alice max Transactions:\")\n",
        "print(acc1.findMaxWithdrawalTransaction())\n",
        "\n",
        "print(\"Alice max Deposits:\")\n",
        "print(acc1.countDepositTransactions())\n"
      ],
      "metadata": {
        "colab": {
          "base_uri": "https://localhost:8080/"
        },
        "id": "-vStOM4VzESo",
        "outputId": "45f17db0-f756-437f-e142-2155944433c2"
      },
      "execution_count": 1,
      "outputs": [
        {
          "output_type": "stream",
          "name": "stdout",
          "text": [
            "Deposited 200. New balance: 700\n",
            "Deposited 150. New balance: 850\n",
            "Withdrew 100. New balance: 750\n",
            "Transferred 150 to Bob. New balance: 600\n",
            "\n",
            "Alice's Transactions:\n",
            "Transaction(ID: 1, Type: deposit, Amount: 200, Date: 2025-03-05 15:14:22.983712)\n",
            "Transaction(ID: 2, Type: deposit, Amount: 150, Date: 2025-03-05 15:14:22.984132)\n",
            "Transaction(ID: 3, Type: withdrawal, Amount: 100, Date: 2025-03-05 15:14:22.984198)\n",
            "Transaction(ID: 4, Type: transfer, Amount: 150, Date: 2025-03-05 15:14:22.984261)\n",
            "\n",
            "Bob's Transactions:\n",
            "Transaction(ID: 1, Type: deposit, Amount: 150, Date: 2025-03-05 15:14:22.984263)\n",
            "Alice max Transactions:\n",
            "Transaction(ID: 3, Type: withdrawal, Amount: 100, Date: 2025-03-05 15:14:22.984198)\n",
            "Alice max Deposits:\n",
            "2\n"
          ]
        }
      ]
    },
    {
      "cell_type": "markdown",
      "source": [],
      "metadata": {
        "id": "58SsY5US3ZgA"
      }
    }
  ]
}