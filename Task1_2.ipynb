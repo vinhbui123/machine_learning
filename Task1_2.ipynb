{
  "nbformat": 4,
  "nbformat_minor": 0,
  "metadata": {
    "colab": {
      "provenance": [],
      "authorship_tag": "ABX9TyNqahvDenHlbGTe2Hikd1o8",
      "include_colab_link": true
    },
    "kernelspec": {
      "name": "python3",
      "display_name": "Python 3"
    },
    "language_info": {
      "name": "python"
    }
  },
  "cells": [
    {
      "cell_type": "markdown",
      "metadata": {
        "id": "view-in-github",
        "colab_type": "text"
      },
      "source": [
        "<a href=\"https://colab.research.google.com/github/vinhbui123/machine_learning/blob/main/Task1_2.ipynb\" target=\"_parent\"><img src=\"https://colab.research.google.com/assets/colab-badge.svg\" alt=\"Open In Colab\"/></a>"
      ]
    },
    {
      "cell_type": "code",
      "source": [
        "from datetime import datetime\n",
        "\n",
        "class Transaction:\n",
        "    def __init__(self, transaction_id, transaction_type, amount, date=None):\n",
        "        self.id = transaction_id\n",
        "        self.type = transaction_type  # \"deposit\", \"withdrawal\", \"transfer\"\n",
        "        self.amount = amount\n",
        "        self.date = date if date else datetime.now()\n",
        "\n",
        "    def __str__(self):\n",
        "        return f\"Transaction(ID: {self.id}, Type: {self.type}, Amount: {self.amount}, Date: {self.date})\"\n",
        "\n",
        "\n",
        "class Account:\n",
        "\n",
        "    def __init__(self, account_no, owner, balance=0):\n",
        "        self.account_no = account_no\n",
        "        self.owner = owner\n",
        "        self.balance = balance\n",
        "        self.transactions = []\n",
        "\n",
        "    def findMaxWithdrawalTransaction(seft):\n",
        "        withdrawals = [t for t in seft.transactions if t.type == \"withdrawal\"]\n",
        "        return max(withdrawals, key=lambda t: t.amount)\n",
        "\n",
        "    def countDepositTransactions(seft):\n",
        "        return len([t for t in seft.transactions if t.type == \"deposit\"])\n",
        "\n",
        "    def filterTransaction(self, threshold):\n",
        "        # Filter transactions with amount > threshold\n",
        "        filtered = [t for t in self.transactions if t.amount > threshold]\n",
        "        # Sort by transaction type in ascending order\n",
        "        filtered.sort(key=lambda t: t.type)\n",
        "        return filtered\n",
        "\n",
        "    def deposit(self, amount):\n",
        "        if amount > 0:\n",
        "            self.balance += amount\n",
        "            transaction = Transaction(len(self.transactions) + 1, \"deposit\", amount)\n",
        "            self.transactions.append(transaction)\n",
        "            print(f\"Deposited {amount}. New balance: {self.balance}\")\n",
        "        else:\n",
        "            print(\"Deposit amount must be positive.\")\n",
        "\n",
        "    def withdraw(self, amount):\n",
        "        if 0 < amount <= self.balance:\n",
        "            self.balance -= amount\n",
        "            transaction = Transaction(len(self.transactions) + 1, \"withdrawal\", amount)\n",
        "            self.transactions.append(transaction)\n",
        "            print(f\"Withdrew {amount}. New balance: {self.balance}\")\n",
        "        else:\n",
        "            print(\"Invalid withdrawal amount.\")\n",
        "\n",
        "    def transfer(self, recipient, amount):\n",
        "        if isinstance(recipient, Account) and 0 < amount <= self.balance:\n",
        "            self.balance -= amount\n",
        "            recipient.balance += amount\n",
        "\n",
        "            transaction = Transaction(len(self.transactions) + 1, \"transfer\", amount)\n",
        "            self.transactions.append(transaction)\n",
        "\n",
        "            recipient_transaction = Transaction(len(recipient.transactions) + 1, \"deposit\", amount)\n",
        "            recipient.transactions.append(recipient_transaction)\n",
        "\n",
        "            print(f\"Transferred {amount} to {recipient.owner}. New balance: {self.balance}\")\n",
        "        else:\n",
        "            print(\"Invalid transfer.\")\n",
        "\n",
        "    def show_transactions(self):\n",
        "        for t in self.transactions:\n",
        "            print(t)\n",
        "\n",
        "\n",
        "# Example usage:\n",
        "acc1 = Account(1001, \"Alice\", 500)\n",
        "acc2 = Account(1002, \"Bob\", 300)\n",
        "\n",
        "acc1.deposit(200)\n",
        "acc1.withdraw(100)\n",
        "acc1.transfer(acc2, 150)\n",
        "acc1.deposit(50)\n",
        "acc1.withdraw(300)\n",
        "\n",
        "# Filter transactions with amount > 100\n",
        "filtered = acc1.filterTransaction(100)\n",
        "for t in filtered:\n",
        "    print(t)\n",
        "\n",
        "print(\"\\nAlice's Transactions:\")\n",
        "acc1.show_transactions()\n",
        "\n",
        "print(\"\\nBob's Transactions:\")\n",
        "acc2.show_transactions()\n",
        "\n",
        "print(\"Alice max Transactions:\")\n",
        "print(acc1.findMaxWithdrawalTransaction())\n",
        "\n",
        "print(\"Alice max Deposits:\")\n",
        "print(acc1.countDepositTransactions())\n"
      ],
      "metadata": {
        "colab": {
          "base_uri": "https://localhost:8080/"
        },
        "id": "-vStOM4VzESo",
        "outputId": "9f70e22d-9343-4a1f-ee4c-4bd619c2a381"
      },
      "execution_count": 3,
      "outputs": [
        {
          "output_type": "stream",
          "name": "stdout",
          "text": [
            "Deposited 200. New balance: 700\n",
            "Withdrew 100. New balance: 600\n",
            "Transferred 150 to Bob. New balance: 450\n",
            "Deposited 50. New balance: 500\n",
            "Withdrew 300. New balance: 200\n",
            "Transaction(ID: 1, Type: deposit, Amount: 200, Date: 2025-03-10 02:35:14.268114)\n",
            "Transaction(ID: 3, Type: transfer, Amount: 150, Date: 2025-03-10 02:35:14.268279)\n",
            "Transaction(ID: 5, Type: withdrawal, Amount: 300, Date: 2025-03-10 02:35:14.268351)\n",
            "\n",
            "Alice's Transactions:\n",
            "Transaction(ID: 1, Type: deposit, Amount: 200, Date: 2025-03-10 02:35:14.268114)\n",
            "Transaction(ID: 2, Type: withdrawal, Amount: 100, Date: 2025-03-10 02:35:14.268236)\n",
            "Transaction(ID: 3, Type: transfer, Amount: 150, Date: 2025-03-10 02:35:14.268279)\n",
            "Transaction(ID: 4, Type: deposit, Amount: 50, Date: 2025-03-10 02:35:14.268314)\n",
            "Transaction(ID: 5, Type: withdrawal, Amount: 300, Date: 2025-03-10 02:35:14.268351)\n",
            "\n",
            "Bob's Transactions:\n",
            "Transaction(ID: 1, Type: deposit, Amount: 150, Date: 2025-03-10 02:35:14.268281)\n",
            "Alice max Transactions:\n",
            "Transaction(ID: 5, Type: withdrawal, Amount: 300, Date: 2025-03-10 02:35:14.268351)\n",
            "Alice max Deposits:\n",
            "2\n"
          ]
        }
      ]
    },
    {
      "cell_type": "markdown",
      "source": [],
      "metadata": {
        "id": "58SsY5US3ZgA"
      }
    }
  ]
}