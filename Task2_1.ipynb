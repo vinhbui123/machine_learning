{
  "nbformat": 4,
  "nbformat_minor": 0,
  "metadata": {
    "colab": {
      "provenance": [],
      "authorship_tag": "ABX9TyPW3woj0WV3vNllH4e28iSI",
      "include_colab_link": true
    },
    "kernelspec": {
      "name": "python3",
      "display_name": "Python 3"
    },
    "language_info": {
      "name": "python"
    }
  },
  "cells": [
    {
      "cell_type": "markdown",
      "metadata": {
        "id": "view-in-github",
        "colab_type": "text"
      },
      "source": [
        "<a href=\"https://colab.research.google.com/github/vinhbui123/machine_learning/blob/main/Task2_1.ipynb\" target=\"_parent\"><img src=\"https://colab.research.google.com/assets/colab-badge.svg\" alt=\"Open In Colab\"/></a>"
      ]
    },
    {
      "cell_type": "code",
      "source": [
        "import numpy as np\n",
        "\n",
        "# Example arrays\n",
        "a = np.array([1, 2, 3, 4, 5])\n",
        "b = np.array([4, 5, 6, 7, 8])\n",
        "\n",
        "# Find common items\n",
        "common_items = np.intersect1d(a, b)\n",
        "\n",
        "print(\"Common items:\", common_items)"
      ],
      "metadata": {
        "colab": {
          "base_uri": "https://localhost:8080/"
        },
        "id": "-vStOM4VzESo",
        "outputId": "47a6efc8-179c-429b-8f37-10ff93cf603d"
      },
      "execution_count": 6,
      "outputs": [
        {
          "output_type": "stream",
          "name": "stdout",
          "text": [
            "Common items: [4 5]\n"
          ]
        }
      ]
    },
    {
      "cell_type": "markdown",
      "source": [],
      "metadata": {
        "id": "58SsY5US3ZgA"
      }
    }
  ]
}