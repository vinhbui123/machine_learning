{
  "nbformat": 4,
  "nbformat_minor": 0,
  "metadata": {
    "colab": {
      "provenance": [],
      "authorship_tag": "ABX9TyPIsCrcVRfkdvbLM5HfcoI5",
      "include_colab_link": true
    },
    "kernelspec": {
      "name": "python3",
      "display_name": "Python 3"
    },
    "language_info": {
      "name": "python"
    }
  },
  "cells": [
    {
      "cell_type": "markdown",
      "metadata": {
        "id": "view-in-github",
        "colab_type": "text"
      },
      "source": [
        "<a href=\"https://colab.research.google.com/github/vinhbui123/machine_learning/blob/main/Task2_2.ipynb\" target=\"_parent\"><img src=\"https://colab.research.google.com/assets/colab-badge.svg\" alt=\"Open In Colab\"/></a>"
      ]
    },
    {
      "cell_type": "code",
      "source": [
        "import numpy as np\n",
        "\n",
        "# Function to check if a number is prime\n",
        "def is_prime(n):\n",
        "    if n < 2:\n",
        "        return False\n",
        "    for i in range(2, int(np.sqrt(n)) + 1):\n",
        "        if n % i == 0:\n",
        "            return False\n",
        "    return True\n",
        "\n",
        "# Generate a sequence of numbers from 0 to 100\n",
        "numbers = np.arange(0, 101)\n",
        "\n",
        "# Filter out prime numbers\n",
        "non_primes = numbers[~np.vectorize(is_prime)(numbers)]\n",
        "\n",
        "print(\"Non-prime numbers:\", non_primes)"
      ],
      "metadata": {
        "colab": {
          "base_uri": "https://localhost:8080/"
        },
        "id": "-vStOM4VzESo",
        "outputId": "f395c098-67dc-4f97-eca8-37577a26e495"
      },
      "execution_count": 5,
      "outputs": [
        {
          "output_type": "stream",
          "name": "stdout",
          "text": [
            "Non-prime numbers: [  0   1   4   6   8   9  10  12  14  15  16  18  20  21  22  24  25  26\n",
            "  27  28  30  32  33  34  35  36  38  39  40  42  44  45  46  48  49  50\n",
            "  51  52  54  55  56  57  58  60  62  63  64  65  66  68  69  70  72  74\n",
            "  75  76  77  78  80  81  82  84  85  86  87  88  90  91  92  93  94  95\n",
            "  96  98  99 100]\n"
          ]
        }
      ]
    },
    {
      "cell_type": "markdown",
      "source": [],
      "metadata": {
        "id": "58SsY5US3ZgA"
      }
    }
  ]
}